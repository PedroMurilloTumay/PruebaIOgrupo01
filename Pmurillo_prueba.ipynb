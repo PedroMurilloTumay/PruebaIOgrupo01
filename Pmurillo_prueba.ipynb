{
  "nbformat": 4,
  "nbformat_minor": 0,
  "metadata": {
    "colab": {
      "provenance": [],
      "authorship_tag": "ABX9TyPq639rzP33ZAUOxX1x+g8T",
      "include_colab_link": true
    },
    "kernelspec": {
      "name": "python3",
      "display_name": "Python 3"
    },
    "language_info": {
      "name": "python"
    }
  },
  "cells": [
    {
      "cell_type": "markdown",
      "metadata": {
        "id": "view-in-github",
        "colab_type": "text"
      },
      "source": [
        "<a href=\"https://colab.research.google.com/github/PedroMurilloTumay/PruebaIOgrupo01/blob/main/Pmurillo_prueba.ipynb\" target=\"_parent\"><img src=\"https://colab.research.google.com/assets/colab-badge.svg\" alt=\"Open In Colab\"/></a>"
      ]
    },
    {
      "cell_type": "markdown",
      "source": [
        "# Mi primera vez\n",
        "Esto es un subtitulo"
      ],
      "metadata": {
        "id": "uIT50YygfCJG"
      }
    },
    {
      "cell_type": "code",
      "execution_count": 1,
      "metadata": {
        "colab": {
          "base_uri": "https://localhost:8080/"
        },
        "id": "RfbkSoaMd222",
        "outputId": "434ff3fa-e5c5-4846-8f64-490232f12e2b"
      },
      "outputs": [
        {
          "output_type": "stream",
          "name": "stdout",
          "text": [
            "buenos días  mundo\n"
          ]
        }
      ],
      "source": [
        "print(\"buenos días  mundo\")"
      ]
    },
    {
      "cell_type": "markdown",
      "source": [
        "# segundo ejercicio"
      ],
      "metadata": {
        "id": "NuoBPVhHfkMk"
      }
    },
    {
      "cell_type": "code",
      "source": [
        "print(\"buenos dias, pedro\")"
      ],
      "metadata": {
        "id": "KAv0Y23dgDad"
      },
      "execution_count": null,
      "outputs": []
    }
  ]
}